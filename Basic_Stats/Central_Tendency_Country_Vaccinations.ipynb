{
  "nbformat": 4,
  "nbformat_minor": 0,
  "metadata": {
    "colab": {
      "name": "Country_Vaccinations.ipynb",
      "provenance": []
    },
    "kernelspec": {
      "name": "python3",
      "display_name": "Python 3"
    },
    "language_info": {
      "name": "python"
    }
  },
  "cells": [
    {
      "cell_type": "code",
      "metadata": {
        "id": "H90yPe8CTgRR"
      },
      "source": [
        "import pandas as pd\n",
        "import numpy as np\n",
        "import seaborn as sns\n",
        "import matplotlib.pyplot as plt\n",
        "from scipy import stats\n",
        "%matplotlib inline\n",
        "plt.rcParams['figure.figsize'] = (8, 6)\n",
        "plt.rcParams['font.size'] = 14\n",
        "plt.style.use(\"fivethirtyeight\")\n",
        "import math"
      ],
      "execution_count": 1,
      "outputs": []
    },
    {
      "cell_type": "code",
      "metadata": {
        "id": "QaGJZO3bVp5c",
        "colab": {
          "base_uri": "https://localhost:8080/"
        },
        "outputId": "a35f3576-3a50-4451-a07c-73af15d49d9c"
      },
      "source": [
        "from google.colab import drive\n",
        "drive.mount('/content/drive')\n"
      ],
      "execution_count": 2,
      "outputs": [
        {
          "output_type": "stream",
          "text": [
            "Mounted at /content/drive\n"
          ],
          "name": "stdout"
        }
      ]
    },
    {
      "cell_type": "code",
      "metadata": {
        "id": "PeBWt_MoVqDa",
        "colab": {
          "base_uri": "https://localhost:8080/",
          "height": 694
        },
        "outputId": "5df8f4e0-4e3d-4d1f-8234-daf385b38ef9"
      },
      "source": [
        "vacc= pd.read_csv('/content/drive/MyDrive/country_vaccinations.csv')\n",
        "vacc"
      ],
      "execution_count": 3,
      "outputs": [
        {
          "output_type": "execute_result",
          "data": {
            "text/html": [
              "<div>\n",
              "<style scoped>\n",
              "    .dataframe tbody tr th:only-of-type {\n",
              "        vertical-align: middle;\n",
              "    }\n",
              "\n",
              "    .dataframe tbody tr th {\n",
              "        vertical-align: top;\n",
              "    }\n",
              "\n",
              "    .dataframe thead th {\n",
              "        text-align: right;\n",
              "    }\n",
              "</style>\n",
              "<table border=\"1\" class=\"dataframe\">\n",
              "  <thead>\n",
              "    <tr style=\"text-align: right;\">\n",
              "      <th></th>\n",
              "      <th>country</th>\n",
              "      <th>iso_code</th>\n",
              "      <th>date</th>\n",
              "      <th>total_vaccinations</th>\n",
              "      <th>people_vaccinated</th>\n",
              "      <th>people_fully_vaccinated</th>\n",
              "      <th>daily_vaccinations_raw</th>\n",
              "      <th>daily_vaccinations</th>\n",
              "      <th>total_vaccinations_per_hundred</th>\n",
              "      <th>people_vaccinated_per_hundred</th>\n",
              "      <th>people_fully_vaccinated_per_hundred</th>\n",
              "      <th>daily_vaccinations_per_million</th>\n",
              "      <th>vaccines</th>\n",
              "      <th>source_name</th>\n",
              "      <th>source_website</th>\n",
              "    </tr>\n",
              "  </thead>\n",
              "  <tbody>\n",
              "    <tr>\n",
              "      <th>0</th>\n",
              "      <td>Afghanistan</td>\n",
              "      <td>AFG</td>\n",
              "      <td>2021-02-22</td>\n",
              "      <td>0.0</td>\n",
              "      <td>0.0</td>\n",
              "      <td>NaN</td>\n",
              "      <td>NaN</td>\n",
              "      <td>NaN</td>\n",
              "      <td>0.00</td>\n",
              "      <td>0.00</td>\n",
              "      <td>NaN</td>\n",
              "      <td>NaN</td>\n",
              "      <td>Johnson&amp;Johnson, Oxford/AstraZeneca, Pfizer/Bi...</td>\n",
              "      <td>World Health Organization</td>\n",
              "      <td>https://covid19.who.int/</td>\n",
              "    </tr>\n",
              "    <tr>\n",
              "      <th>1</th>\n",
              "      <td>Afghanistan</td>\n",
              "      <td>AFG</td>\n",
              "      <td>2021-02-23</td>\n",
              "      <td>NaN</td>\n",
              "      <td>NaN</td>\n",
              "      <td>NaN</td>\n",
              "      <td>NaN</td>\n",
              "      <td>1367.0</td>\n",
              "      <td>NaN</td>\n",
              "      <td>NaN</td>\n",
              "      <td>NaN</td>\n",
              "      <td>35.0</td>\n",
              "      <td>Johnson&amp;Johnson, Oxford/AstraZeneca, Pfizer/Bi...</td>\n",
              "      <td>World Health Organization</td>\n",
              "      <td>https://covid19.who.int/</td>\n",
              "    </tr>\n",
              "    <tr>\n",
              "      <th>2</th>\n",
              "      <td>Afghanistan</td>\n",
              "      <td>AFG</td>\n",
              "      <td>2021-02-24</td>\n",
              "      <td>NaN</td>\n",
              "      <td>NaN</td>\n",
              "      <td>NaN</td>\n",
              "      <td>NaN</td>\n",
              "      <td>1367.0</td>\n",
              "      <td>NaN</td>\n",
              "      <td>NaN</td>\n",
              "      <td>NaN</td>\n",
              "      <td>35.0</td>\n",
              "      <td>Johnson&amp;Johnson, Oxford/AstraZeneca, Pfizer/Bi...</td>\n",
              "      <td>World Health Organization</td>\n",
              "      <td>https://covid19.who.int/</td>\n",
              "    </tr>\n",
              "    <tr>\n",
              "      <th>3</th>\n",
              "      <td>Afghanistan</td>\n",
              "      <td>AFG</td>\n",
              "      <td>2021-02-25</td>\n",
              "      <td>NaN</td>\n",
              "      <td>NaN</td>\n",
              "      <td>NaN</td>\n",
              "      <td>NaN</td>\n",
              "      <td>1367.0</td>\n",
              "      <td>NaN</td>\n",
              "      <td>NaN</td>\n",
              "      <td>NaN</td>\n",
              "      <td>35.0</td>\n",
              "      <td>Johnson&amp;Johnson, Oxford/AstraZeneca, Pfizer/Bi...</td>\n",
              "      <td>World Health Organization</td>\n",
              "      <td>https://covid19.who.int/</td>\n",
              "    </tr>\n",
              "    <tr>\n",
              "      <th>4</th>\n",
              "      <td>Afghanistan</td>\n",
              "      <td>AFG</td>\n",
              "      <td>2021-02-26</td>\n",
              "      <td>NaN</td>\n",
              "      <td>NaN</td>\n",
              "      <td>NaN</td>\n",
              "      <td>NaN</td>\n",
              "      <td>1367.0</td>\n",
              "      <td>NaN</td>\n",
              "      <td>NaN</td>\n",
              "      <td>NaN</td>\n",
              "      <td>35.0</td>\n",
              "      <td>Johnson&amp;Johnson, Oxford/AstraZeneca, Pfizer/Bi...</td>\n",
              "      <td>World Health Organization</td>\n",
              "      <td>https://covid19.who.int/</td>\n",
              "    </tr>\n",
              "    <tr>\n",
              "      <th>...</th>\n",
              "      <td>...</td>\n",
              "      <td>...</td>\n",
              "      <td>...</td>\n",
              "      <td>...</td>\n",
              "      <td>...</td>\n",
              "      <td>...</td>\n",
              "      <td>...</td>\n",
              "      <td>...</td>\n",
              "      <td>...</td>\n",
              "      <td>...</td>\n",
              "      <td>...</td>\n",
              "      <td>...</td>\n",
              "      <td>...</td>\n",
              "      <td>...</td>\n",
              "      <td>...</td>\n",
              "    </tr>\n",
              "    <tr>\n",
              "      <th>33720</th>\n",
              "      <td>Zimbabwe</td>\n",
              "      <td>ZWE</td>\n",
              "      <td>2021-07-22</td>\n",
              "      <td>2017101.0</td>\n",
              "      <td>1352514.0</td>\n",
              "      <td>664587.0</td>\n",
              "      <td>67629.0</td>\n",
              "      <td>50034.0</td>\n",
              "      <td>13.57</td>\n",
              "      <td>9.10</td>\n",
              "      <td>4.47</td>\n",
              "      <td>3366.0</td>\n",
              "      <td>Sinopharm/Beijing, Sinovac, Sputnik V</td>\n",
              "      <td>Ministry of Health</td>\n",
              "      <td>https://twitter.com/MoHCCZim/status/1419767795...</td>\n",
              "    </tr>\n",
              "    <tr>\n",
              "      <th>33721</th>\n",
              "      <td>Zimbabwe</td>\n",
              "      <td>ZWE</td>\n",
              "      <td>2021-07-23</td>\n",
              "      <td>2072060.0</td>\n",
              "      <td>1400905.0</td>\n",
              "      <td>671155.0</td>\n",
              "      <td>54959.0</td>\n",
              "      <td>48617.0</td>\n",
              "      <td>13.94</td>\n",
              "      <td>9.43</td>\n",
              "      <td>4.52</td>\n",
              "      <td>3271.0</td>\n",
              "      <td>Sinopharm/Beijing, Sinovac, Sputnik V</td>\n",
              "      <td>Ministry of Health</td>\n",
              "      <td>https://twitter.com/MoHCCZim/status/1419767795...</td>\n",
              "    </tr>\n",
              "    <tr>\n",
              "      <th>33722</th>\n",
              "      <td>Zimbabwe</td>\n",
              "      <td>ZWE</td>\n",
              "      <td>2021-07-24</td>\n",
              "      <td>2116664.0</td>\n",
              "      <td>1438890.0</td>\n",
              "      <td>677774.0</td>\n",
              "      <td>44604.0</td>\n",
              "      <td>49319.0</td>\n",
              "      <td>14.24</td>\n",
              "      <td>9.68</td>\n",
              "      <td>4.56</td>\n",
              "      <td>3318.0</td>\n",
              "      <td>Sinopharm/Beijing, Sinovac, Sputnik V</td>\n",
              "      <td>Ministry of Health</td>\n",
              "      <td>https://twitter.com/MoHCCZim/status/1419767795...</td>\n",
              "    </tr>\n",
              "    <tr>\n",
              "      <th>33723</th>\n",
              "      <td>Zimbabwe</td>\n",
              "      <td>ZWE</td>\n",
              "      <td>2021-07-25</td>\n",
              "      <td>2127402.0</td>\n",
              "      <td>1447342.0</td>\n",
              "      <td>680060.0</td>\n",
              "      <td>10738.0</td>\n",
              "      <td>48838.0</td>\n",
              "      <td>14.31</td>\n",
              "      <td>9.74</td>\n",
              "      <td>4.58</td>\n",
              "      <td>3286.0</td>\n",
              "      <td>Sinopharm/Beijing, Sinovac, Sputnik V</td>\n",
              "      <td>Ministry of Health</td>\n",
              "      <td>https://twitter.com/MoHCCZim/status/1419767795...</td>\n",
              "    </tr>\n",
              "    <tr>\n",
              "      <th>33724</th>\n",
              "      <td>Zimbabwe</td>\n",
              "      <td>ZWE</td>\n",
              "      <td>2021-07-26</td>\n",
              "      <td>2178709.0</td>\n",
              "      <td>1491493.0</td>\n",
              "      <td>687216.0</td>\n",
              "      <td>51307.0</td>\n",
              "      <td>50153.0</td>\n",
              "      <td>14.66</td>\n",
              "      <td>10.03</td>\n",
              "      <td>4.62</td>\n",
              "      <td>3374.0</td>\n",
              "      <td>Sinopharm/Beijing, Sinovac, Sputnik V</td>\n",
              "      <td>Ministry of Health</td>\n",
              "      <td>https://twitter.com/MoHCCZim/status/1419767795...</td>\n",
              "    </tr>\n",
              "  </tbody>\n",
              "</table>\n",
              "<p>33725 rows × 15 columns</p>\n",
              "</div>"
            ],
            "text/plain": [
              "           country  ...                                     source_website\n",
              "0      Afghanistan  ...                           https://covid19.who.int/\n",
              "1      Afghanistan  ...                           https://covid19.who.int/\n",
              "2      Afghanistan  ...                           https://covid19.who.int/\n",
              "3      Afghanistan  ...                           https://covid19.who.int/\n",
              "4      Afghanistan  ...                           https://covid19.who.int/\n",
              "...            ...  ...                                                ...\n",
              "33720     Zimbabwe  ...  https://twitter.com/MoHCCZim/status/1419767795...\n",
              "33721     Zimbabwe  ...  https://twitter.com/MoHCCZim/status/1419767795...\n",
              "33722     Zimbabwe  ...  https://twitter.com/MoHCCZim/status/1419767795...\n",
              "33723     Zimbabwe  ...  https://twitter.com/MoHCCZim/status/1419767795...\n",
              "33724     Zimbabwe  ...  https://twitter.com/MoHCCZim/status/1419767795...\n",
              "\n",
              "[33725 rows x 15 columns]"
            ]
          },
          "metadata": {
            "tags": []
          },
          "execution_count": 3
        }
      ]
    },
    {
      "cell_type": "code",
      "metadata": {
        "colab": {
          "base_uri": "https://localhost:8080/",
          "height": 394
        },
        "id": "QHv1i2V_UwpT",
        "outputId": "9382c01c-0850-47f9-ff70-224fe8f78798"
      },
      "source": [
        "vacc.head()"
      ],
      "execution_count": 4,
      "outputs": [
        {
          "output_type": "execute_result",
          "data": {
            "text/html": [
              "<div>\n",
              "<style scoped>\n",
              "    .dataframe tbody tr th:only-of-type {\n",
              "        vertical-align: middle;\n",
              "    }\n",
              "\n",
              "    .dataframe tbody tr th {\n",
              "        vertical-align: top;\n",
              "    }\n",
              "\n",
              "    .dataframe thead th {\n",
              "        text-align: right;\n",
              "    }\n",
              "</style>\n",
              "<table border=\"1\" class=\"dataframe\">\n",
              "  <thead>\n",
              "    <tr style=\"text-align: right;\">\n",
              "      <th></th>\n",
              "      <th>country</th>\n",
              "      <th>iso_code</th>\n",
              "      <th>date</th>\n",
              "      <th>total_vaccinations</th>\n",
              "      <th>people_vaccinated</th>\n",
              "      <th>people_fully_vaccinated</th>\n",
              "      <th>daily_vaccinations_raw</th>\n",
              "      <th>daily_vaccinations</th>\n",
              "      <th>total_vaccinations_per_hundred</th>\n",
              "      <th>people_vaccinated_per_hundred</th>\n",
              "      <th>people_fully_vaccinated_per_hundred</th>\n",
              "      <th>daily_vaccinations_per_million</th>\n",
              "      <th>vaccines</th>\n",
              "      <th>source_name</th>\n",
              "      <th>source_website</th>\n",
              "    </tr>\n",
              "  </thead>\n",
              "  <tbody>\n",
              "    <tr>\n",
              "      <th>0</th>\n",
              "      <td>Afghanistan</td>\n",
              "      <td>AFG</td>\n",
              "      <td>2021-02-22</td>\n",
              "      <td>0.0</td>\n",
              "      <td>0.0</td>\n",
              "      <td>NaN</td>\n",
              "      <td>NaN</td>\n",
              "      <td>NaN</td>\n",
              "      <td>0.0</td>\n",
              "      <td>0.0</td>\n",
              "      <td>NaN</td>\n",
              "      <td>NaN</td>\n",
              "      <td>Johnson&amp;Johnson, Oxford/AstraZeneca, Pfizer/Bi...</td>\n",
              "      <td>World Health Organization</td>\n",
              "      <td>https://covid19.who.int/</td>\n",
              "    </tr>\n",
              "    <tr>\n",
              "      <th>1</th>\n",
              "      <td>Afghanistan</td>\n",
              "      <td>AFG</td>\n",
              "      <td>2021-02-23</td>\n",
              "      <td>NaN</td>\n",
              "      <td>NaN</td>\n",
              "      <td>NaN</td>\n",
              "      <td>NaN</td>\n",
              "      <td>1367.0</td>\n",
              "      <td>NaN</td>\n",
              "      <td>NaN</td>\n",
              "      <td>NaN</td>\n",
              "      <td>35.0</td>\n",
              "      <td>Johnson&amp;Johnson, Oxford/AstraZeneca, Pfizer/Bi...</td>\n",
              "      <td>World Health Organization</td>\n",
              "      <td>https://covid19.who.int/</td>\n",
              "    </tr>\n",
              "    <tr>\n",
              "      <th>2</th>\n",
              "      <td>Afghanistan</td>\n",
              "      <td>AFG</td>\n",
              "      <td>2021-02-24</td>\n",
              "      <td>NaN</td>\n",
              "      <td>NaN</td>\n",
              "      <td>NaN</td>\n",
              "      <td>NaN</td>\n",
              "      <td>1367.0</td>\n",
              "      <td>NaN</td>\n",
              "      <td>NaN</td>\n",
              "      <td>NaN</td>\n",
              "      <td>35.0</td>\n",
              "      <td>Johnson&amp;Johnson, Oxford/AstraZeneca, Pfizer/Bi...</td>\n",
              "      <td>World Health Organization</td>\n",
              "      <td>https://covid19.who.int/</td>\n",
              "    </tr>\n",
              "    <tr>\n",
              "      <th>3</th>\n",
              "      <td>Afghanistan</td>\n",
              "      <td>AFG</td>\n",
              "      <td>2021-02-25</td>\n",
              "      <td>NaN</td>\n",
              "      <td>NaN</td>\n",
              "      <td>NaN</td>\n",
              "      <td>NaN</td>\n",
              "      <td>1367.0</td>\n",
              "      <td>NaN</td>\n",
              "      <td>NaN</td>\n",
              "      <td>NaN</td>\n",
              "      <td>35.0</td>\n",
              "      <td>Johnson&amp;Johnson, Oxford/AstraZeneca, Pfizer/Bi...</td>\n",
              "      <td>World Health Organization</td>\n",
              "      <td>https://covid19.who.int/</td>\n",
              "    </tr>\n",
              "    <tr>\n",
              "      <th>4</th>\n",
              "      <td>Afghanistan</td>\n",
              "      <td>AFG</td>\n",
              "      <td>2021-02-26</td>\n",
              "      <td>NaN</td>\n",
              "      <td>NaN</td>\n",
              "      <td>NaN</td>\n",
              "      <td>NaN</td>\n",
              "      <td>1367.0</td>\n",
              "      <td>NaN</td>\n",
              "      <td>NaN</td>\n",
              "      <td>NaN</td>\n",
              "      <td>35.0</td>\n",
              "      <td>Johnson&amp;Johnson, Oxford/AstraZeneca, Pfizer/Bi...</td>\n",
              "      <td>World Health Organization</td>\n",
              "      <td>https://covid19.who.int/</td>\n",
              "    </tr>\n",
              "  </tbody>\n",
              "</table>\n",
              "</div>"
            ],
            "text/plain": [
              "       country iso_code  ...                source_name            source_website\n",
              "0  Afghanistan      AFG  ...  World Health Organization  https://covid19.who.int/\n",
              "1  Afghanistan      AFG  ...  World Health Organization  https://covid19.who.int/\n",
              "2  Afghanistan      AFG  ...  World Health Organization  https://covid19.who.int/\n",
              "3  Afghanistan      AFG  ...  World Health Organization  https://covid19.who.int/\n",
              "4  Afghanistan      AFG  ...  World Health Organization  https://covid19.who.int/\n",
              "\n",
              "[5 rows x 15 columns]"
            ]
          },
          "metadata": {
            "tags": []
          },
          "execution_count": 4
        }
      ]
    },
    {
      "cell_type": "code",
      "metadata": {
        "id": "v2Pr7PYMUwts",
        "colab": {
          "base_uri": "https://localhost:8080/",
          "height": 309
        },
        "outputId": "39def4da-28b2-4ced-e886-9d6d34997272"
      },
      "source": [
        "vacc.tail()"
      ],
      "execution_count": 5,
      "outputs": [
        {
          "output_type": "execute_result",
          "data": {
            "text/html": [
              "<div>\n",
              "<style scoped>\n",
              "    .dataframe tbody tr th:only-of-type {\n",
              "        vertical-align: middle;\n",
              "    }\n",
              "\n",
              "    .dataframe tbody tr th {\n",
              "        vertical-align: top;\n",
              "    }\n",
              "\n",
              "    .dataframe thead th {\n",
              "        text-align: right;\n",
              "    }\n",
              "</style>\n",
              "<table border=\"1\" class=\"dataframe\">\n",
              "  <thead>\n",
              "    <tr style=\"text-align: right;\">\n",
              "      <th></th>\n",
              "      <th>country</th>\n",
              "      <th>iso_code</th>\n",
              "      <th>date</th>\n",
              "      <th>total_vaccinations</th>\n",
              "      <th>people_vaccinated</th>\n",
              "      <th>people_fully_vaccinated</th>\n",
              "      <th>daily_vaccinations_raw</th>\n",
              "      <th>daily_vaccinations</th>\n",
              "      <th>total_vaccinations_per_hundred</th>\n",
              "      <th>people_vaccinated_per_hundred</th>\n",
              "      <th>people_fully_vaccinated_per_hundred</th>\n",
              "      <th>daily_vaccinations_per_million</th>\n",
              "      <th>vaccines</th>\n",
              "      <th>source_name</th>\n",
              "      <th>source_website</th>\n",
              "    </tr>\n",
              "  </thead>\n",
              "  <tbody>\n",
              "    <tr>\n",
              "      <th>33720</th>\n",
              "      <td>Zimbabwe</td>\n",
              "      <td>ZWE</td>\n",
              "      <td>2021-07-22</td>\n",
              "      <td>2017101.0</td>\n",
              "      <td>1352514.0</td>\n",
              "      <td>664587.0</td>\n",
              "      <td>67629.0</td>\n",
              "      <td>50034.0</td>\n",
              "      <td>13.57</td>\n",
              "      <td>9.10</td>\n",
              "      <td>4.47</td>\n",
              "      <td>3366.0</td>\n",
              "      <td>Sinopharm/Beijing, Sinovac, Sputnik V</td>\n",
              "      <td>Ministry of Health</td>\n",
              "      <td>https://twitter.com/MoHCCZim/status/1419767795...</td>\n",
              "    </tr>\n",
              "    <tr>\n",
              "      <th>33721</th>\n",
              "      <td>Zimbabwe</td>\n",
              "      <td>ZWE</td>\n",
              "      <td>2021-07-23</td>\n",
              "      <td>2072060.0</td>\n",
              "      <td>1400905.0</td>\n",
              "      <td>671155.0</td>\n",
              "      <td>54959.0</td>\n",
              "      <td>48617.0</td>\n",
              "      <td>13.94</td>\n",
              "      <td>9.43</td>\n",
              "      <td>4.52</td>\n",
              "      <td>3271.0</td>\n",
              "      <td>Sinopharm/Beijing, Sinovac, Sputnik V</td>\n",
              "      <td>Ministry of Health</td>\n",
              "      <td>https://twitter.com/MoHCCZim/status/1419767795...</td>\n",
              "    </tr>\n",
              "    <tr>\n",
              "      <th>33722</th>\n",
              "      <td>Zimbabwe</td>\n",
              "      <td>ZWE</td>\n",
              "      <td>2021-07-24</td>\n",
              "      <td>2116664.0</td>\n",
              "      <td>1438890.0</td>\n",
              "      <td>677774.0</td>\n",
              "      <td>44604.0</td>\n",
              "      <td>49319.0</td>\n",
              "      <td>14.24</td>\n",
              "      <td>9.68</td>\n",
              "      <td>4.56</td>\n",
              "      <td>3318.0</td>\n",
              "      <td>Sinopharm/Beijing, Sinovac, Sputnik V</td>\n",
              "      <td>Ministry of Health</td>\n",
              "      <td>https://twitter.com/MoHCCZim/status/1419767795...</td>\n",
              "    </tr>\n",
              "    <tr>\n",
              "      <th>33723</th>\n",
              "      <td>Zimbabwe</td>\n",
              "      <td>ZWE</td>\n",
              "      <td>2021-07-25</td>\n",
              "      <td>2127402.0</td>\n",
              "      <td>1447342.0</td>\n",
              "      <td>680060.0</td>\n",
              "      <td>10738.0</td>\n",
              "      <td>48838.0</td>\n",
              "      <td>14.31</td>\n",
              "      <td>9.74</td>\n",
              "      <td>4.58</td>\n",
              "      <td>3286.0</td>\n",
              "      <td>Sinopharm/Beijing, Sinovac, Sputnik V</td>\n",
              "      <td>Ministry of Health</td>\n",
              "      <td>https://twitter.com/MoHCCZim/status/1419767795...</td>\n",
              "    </tr>\n",
              "    <tr>\n",
              "      <th>33724</th>\n",
              "      <td>Zimbabwe</td>\n",
              "      <td>ZWE</td>\n",
              "      <td>2021-07-26</td>\n",
              "      <td>2178709.0</td>\n",
              "      <td>1491493.0</td>\n",
              "      <td>687216.0</td>\n",
              "      <td>51307.0</td>\n",
              "      <td>50153.0</td>\n",
              "      <td>14.66</td>\n",
              "      <td>10.03</td>\n",
              "      <td>4.62</td>\n",
              "      <td>3374.0</td>\n",
              "      <td>Sinopharm/Beijing, Sinovac, Sputnik V</td>\n",
              "      <td>Ministry of Health</td>\n",
              "      <td>https://twitter.com/MoHCCZim/status/1419767795...</td>\n",
              "    </tr>\n",
              "  </tbody>\n",
              "</table>\n",
              "</div>"
            ],
            "text/plain": [
              "        country  ...                                     source_website\n",
              "33720  Zimbabwe  ...  https://twitter.com/MoHCCZim/status/1419767795...\n",
              "33721  Zimbabwe  ...  https://twitter.com/MoHCCZim/status/1419767795...\n",
              "33722  Zimbabwe  ...  https://twitter.com/MoHCCZim/status/1419767795...\n",
              "33723  Zimbabwe  ...  https://twitter.com/MoHCCZim/status/1419767795...\n",
              "33724  Zimbabwe  ...  https://twitter.com/MoHCCZim/status/1419767795...\n",
              "\n",
              "[5 rows x 15 columns]"
            ]
          },
          "metadata": {
            "tags": []
          },
          "execution_count": 5
        }
      ]
    },
    {
      "cell_type": "code",
      "metadata": {
        "id": "6Gl97FbJUwwi",
        "colab": {
          "base_uri": "https://localhost:8080/",
          "height": 317
        },
        "outputId": "ca6b0b81-6d8e-44b3-f7b9-f7115e6a3702"
      },
      "source": [
        "vacc.describe()"
      ],
      "execution_count": 6,
      "outputs": [
        {
          "output_type": "execute_result",
          "data": {
            "text/html": [
              "<div>\n",
              "<style scoped>\n",
              "    .dataframe tbody tr th:only-of-type {\n",
              "        vertical-align: middle;\n",
              "    }\n",
              "\n",
              "    .dataframe tbody tr th {\n",
              "        vertical-align: top;\n",
              "    }\n",
              "\n",
              "    .dataframe thead th {\n",
              "        text-align: right;\n",
              "    }\n",
              "</style>\n",
              "<table border=\"1\" class=\"dataframe\">\n",
              "  <thead>\n",
              "    <tr style=\"text-align: right;\">\n",
              "      <th></th>\n",
              "      <th>total_vaccinations</th>\n",
              "      <th>people_vaccinated</th>\n",
              "      <th>people_fully_vaccinated</th>\n",
              "      <th>daily_vaccinations_raw</th>\n",
              "      <th>daily_vaccinations</th>\n",
              "      <th>total_vaccinations_per_hundred</th>\n",
              "      <th>people_vaccinated_per_hundred</th>\n",
              "      <th>people_fully_vaccinated_per_hundred</th>\n",
              "      <th>daily_vaccinations_per_million</th>\n",
              "    </tr>\n",
              "  </thead>\n",
              "  <tbody>\n",
              "    <tr>\n",
              "      <th>count</th>\n",
              "      <td>1.874600e+04</td>\n",
              "      <td>1.787900e+04</td>\n",
              "      <td>1.505800e+04</td>\n",
              "      <td>1.544900e+04</td>\n",
              "      <td>3.346400e+04</td>\n",
              "      <td>18746.000000</td>\n",
              "      <td>17879.000000</td>\n",
              "      <td>15058.000000</td>\n",
              "      <td>33464.000000</td>\n",
              "    </tr>\n",
              "    <tr>\n",
              "      <th>mean</th>\n",
              "      <td>1.351367e+07</td>\n",
              "      <td>6.211962e+06</td>\n",
              "      <td>3.635993e+06</td>\n",
              "      <td>2.359468e+05</td>\n",
              "      <td>1.179531e+05</td>\n",
              "      <td>31.963971</td>\n",
              "      <td>20.481091</td>\n",
              "      <td>13.646440</td>\n",
              "      <td>3494.270171</td>\n",
              "    </tr>\n",
              "    <tr>\n",
              "      <th>std</th>\n",
              "      <td>7.562393e+07</td>\n",
              "      <td>2.277708e+07</td>\n",
              "      <td>1.312727e+07</td>\n",
              "      <td>1.277516e+06</td>\n",
              "      <td>8.497067e+05</td>\n",
              "      <td>37.038693</td>\n",
              "      <td>21.510236</td>\n",
              "      <td>16.999178</td>\n",
              "      <td>4575.530654</td>\n",
              "    </tr>\n",
              "    <tr>\n",
              "      <th>min</th>\n",
              "      <td>0.000000e+00</td>\n",
              "      <td>0.000000e+00</td>\n",
              "      <td>1.000000e+00</td>\n",
              "      <td>0.000000e+00</td>\n",
              "      <td>0.000000e+00</td>\n",
              "      <td>0.000000</td>\n",
              "      <td>0.000000</td>\n",
              "      <td>0.000000</td>\n",
              "      <td>0.000000</td>\n",
              "    </tr>\n",
              "    <tr>\n",
              "      <th>25%</th>\n",
              "      <td>1.384602e+05</td>\n",
              "      <td>1.116510e+05</td>\n",
              "      <td>5.237050e+04</td>\n",
              "      <td>4.544000e+03</td>\n",
              "      <td>8.320000e+02</td>\n",
              "      <td>3.350000</td>\n",
              "      <td>2.760000</td>\n",
              "      <td>1.470000</td>\n",
              "      <td>425.000000</td>\n",
              "    </tr>\n",
              "    <tr>\n",
              "      <th>50%</th>\n",
              "      <td>9.848220e+05</td>\n",
              "      <td>7.061580e+05</td>\n",
              "      <td>4.022775e+05</td>\n",
              "      <td>2.226400e+04</td>\n",
              "      <td>6.444000e+03</td>\n",
              "      <td>16.595000</td>\n",
              "      <td>11.780000</td>\n",
              "      <td>6.310000</td>\n",
              "      <td>1974.000000</td>\n",
              "    </tr>\n",
              "    <tr>\n",
              "      <th>75%</th>\n",
              "      <td>4.775988e+06</td>\n",
              "      <td>3.162285e+06</td>\n",
              "      <td>1.876900e+06</td>\n",
              "      <td>9.946200e+04</td>\n",
              "      <td>3.663500e+04</td>\n",
              "      <td>49.627500</td>\n",
              "      <td>33.915000</td>\n",
              "      <td>20.047500</td>\n",
              "      <td>5242.250000</td>\n",
              "    </tr>\n",
              "    <tr>\n",
              "      <th>max</th>\n",
              "      <td>1.583361e+09</td>\n",
              "      <td>6.220000e+08</td>\n",
              "      <td>2.232990e+08</td>\n",
              "      <td>2.474100e+07</td>\n",
              "      <td>2.242429e+07</td>\n",
              "      <td>232.720000</td>\n",
              "      <td>116.730000</td>\n",
              "      <td>115.990000</td>\n",
              "      <td>118759.000000</td>\n",
              "    </tr>\n",
              "  </tbody>\n",
              "</table>\n",
              "</div>"
            ],
            "text/plain": [
              "       total_vaccinations  ...  daily_vaccinations_per_million\n",
              "count        1.874600e+04  ...                    33464.000000\n",
              "mean         1.351367e+07  ...                     3494.270171\n",
              "std          7.562393e+07  ...                     4575.530654\n",
              "min          0.000000e+00  ...                        0.000000\n",
              "25%          1.384602e+05  ...                      425.000000\n",
              "50%          9.848220e+05  ...                     1974.000000\n",
              "75%          4.775988e+06  ...                     5242.250000\n",
              "max          1.583361e+09  ...                   118759.000000\n",
              "\n",
              "[8 rows x 9 columns]"
            ]
          },
          "metadata": {
            "tags": []
          },
          "execution_count": 6
        }
      ]
    },
    {
      "cell_type": "code",
      "metadata": {
        "id": "IrFBUjUrUwzI",
        "colab": {
          "base_uri": "https://localhost:8080/"
        },
        "outputId": "55399648-a2d1-4d83-d598-b593ad6ad035"
      },
      "source": [
        "vacc.info()"
      ],
      "execution_count": 7,
      "outputs": [
        {
          "output_type": "stream",
          "text": [
            "<class 'pandas.core.frame.DataFrame'>\n",
            "RangeIndex: 33725 entries, 0 to 33724\n",
            "Data columns (total 15 columns):\n",
            " #   Column                               Non-Null Count  Dtype  \n",
            "---  ------                               --------------  -----  \n",
            " 0   country                              33725 non-null  object \n",
            " 1   iso_code                             33725 non-null  object \n",
            " 2   date                                 33725 non-null  object \n",
            " 3   total_vaccinations                   18746 non-null  float64\n",
            " 4   people_vaccinated                    17879 non-null  float64\n",
            " 5   people_fully_vaccinated              15058 non-null  float64\n",
            " 6   daily_vaccinations_raw               15449 non-null  float64\n",
            " 7   daily_vaccinations                   33464 non-null  float64\n",
            " 8   total_vaccinations_per_hundred       18746 non-null  float64\n",
            " 9   people_vaccinated_per_hundred        17879 non-null  float64\n",
            " 10  people_fully_vaccinated_per_hundred  15058 non-null  float64\n",
            " 11  daily_vaccinations_per_million       33464 non-null  float64\n",
            " 12  vaccines                             33725 non-null  object \n",
            " 13  source_name                          33725 non-null  object \n",
            " 14  source_website                       33725 non-null  object \n",
            "dtypes: float64(9), object(6)\n",
            "memory usage: 3.9+ MB\n"
          ],
          "name": "stdout"
        }
      ]
    },
    {
      "cell_type": "code",
      "metadata": {
        "id": "TdgK3g6qUw2D",
        "colab": {
          "base_uri": "https://localhost:8080/",
          "height": 461
        },
        "outputId": "31cafa0b-9dec-4cee-9b0a-71fdfe5e097a"
      },
      "source": [
        "sns.heatmap(vacc.corr())"
      ],
      "execution_count": 8,
      "outputs": [
        {
          "output_type": "execute_result",
          "data": {
            "text/plain": [
              "<matplotlib.axes._subplots.AxesSubplot at 0x7f2f625fef90>"
            ]
          },
          "metadata": {
            "tags": []
          },
          "execution_count": 8
        },
        {
          "output_type": "display_data",
          "data": {
            "image/png": "[encoded data removed]",
            "text/plain": [
              "<Figure size 432x288 with 2 Axes>"
            ]
          },
          "metadata": {
            "tags": [],
            "needs_background": "light"
          }
        }
      ]
    },
    {
      "cell_type": "code",
      "metadata": {
        "id": "KWLW4whiUw4o",
        "colab": {
          "base_uri": "https://localhost:8080/"
        },
        "outputId": "3e1d4f9f-6260-46e6-f215-d1f358fe8214"
      },
      "source": [
        "## Sample Mean\n",
        "vacc['people_fully_vaccinated_per_hundred'].isna()"
      ],
      "execution_count": 9,
      "outputs": [
        {
          "output_type": "execute_result",
          "data": {
            "text/plain": [
              "0         True\n",
              "1         True\n",
              "2         True\n",
              "3         True\n",
              "4         True\n",
              "         ...  \n",
              "33720    False\n",
              "33721    False\n",
              "33722    False\n",
              "33723    False\n",
              "33724    False\n",
              "Name: people_fully_vaccinated_per_hundred, Length: 33725, dtype: bool"
            ]
          },
          "metadata": {
            "tags": []
          },
          "execution_count": 9
        }
      ]
    },
    {
      "cell_type": "code",
      "metadata": {
        "id": "hznIV150Uw7s",
        "colab": {
          "base_uri": "https://localhost:8080/"
        },
        "outputId": "53cae88d-c246-43b5-a5cf-5d0d7913fc22"
      },
      "source": [
        "df=vacc['people_fully_vaccinated_per_hundred'].dropna()\n",
        "df"
      ],
      "execution_count": 10,
      "outputs": [
        {
          "output_type": "execute_result",
          "data": {
            "text/plain": [
              "78       0.14\n",
              "87       0.20\n",
              "91       0.25\n",
              "93       0.29\n",
              "94       0.29\n",
              "         ... \n",
              "33720    4.47\n",
              "33721    4.52\n",
              "33722    4.56\n",
              "33723    4.58\n",
              "33724    4.62\n",
              "Name: people_fully_vaccinated_per_hundred, Length: 15058, dtype: float64"
            ]
          },
          "metadata": {
            "tags": []
          },
          "execution_count": 10
        }
      ]
    },
    {
      "cell_type": "code",
      "metadata": {
        "id": "4aOOSsoUUxBM",
        "colab": {
          "base_uri": "https://localhost:8080/"
        },
        "outputId": "5f695514-50ce-4c91-8f37-2690748cd44b"
      },
      "source": [
        "sum(i for i in df)/ len(df)"
      ],
      "execution_count": 11,
      "outputs": [
        {
          "output_type": "execute_result",
          "data": {
            "text/plain": [
              "13.646439766237183"
            ]
          },
          "metadata": {
            "tags": []
          },
          "execution_count": 11
        }
      ]
    },
    {
      "cell_type": "code",
      "metadata": {
        "id": "e4hnX0U3UxEL",
        "colab": {
          "base_uri": "https://localhost:8080/"
        },
        "outputId": "c5653183-deb4-4fa1-a931-088d85b4fb53"
      },
      "source": [
        "x_mean= np.mean(df)\n",
        "x_mean"
      ],
      "execution_count": 12,
      "outputs": [
        {
          "output_type": "execute_result",
          "data": {
            "text/plain": [
              "13.646439766237183"
            ]
          },
          "metadata": {
            "tags": []
          },
          "execution_count": 12
        }
      ]
    },
    {
      "cell_type": "code",
      "metadata": {
        "colab": {
          "base_uri": "https://localhost:8080/",
          "height": 363
        },
        "id": "JyD9TDMtjiM2",
        "outputId": "f0e3ec74-0451-4236-a915-ae14819bc24d"
      },
      "source": [
        "def histo():\n",
        "  bin_edges = np.arange(0, df.max() + 1, 0.5)\n",
        "  plt.figure(figsize=(16,9))\n",
        "  fig = plt.hist(df, bins=bin_edges)\n",
        "  plt.xlabel('count')\n",
        "  plt.ylabel('vaccinated count')\n",
        "    \n",
        "    \n",
        "histo()"
      ],
      "execution_count": 13,
      "outputs": [
        {
          "output_type": "display_data",
          "data": {
            "image/png": "[encoded data removed]",
            "text/plain": [
              "<Figure size 1152x648 with 1 Axes>"
            ]
          },
          "metadata": {
            "tags": [],
            "needs_background": "light"
          }
        }
      ]
    },
    {
      "cell_type": "code",
      "metadata": {
        "id": "wrY604iSUxHj",
        "colab": {
          "base_uri": "https://localhost:8080/",
          "height": 363
        },
        "outputId": "0cf21596-365a-497c-f8b9-f3c93fb8af51"
      },
      "source": [
        "histo()\n",
        "plt.axvline(x_mean, color='darkorange')\n",
        "plt.show()"
      ],
      "execution_count": 14,
      "outputs": [
        {
          "output_type": "display_data",
          "data": {
            "image/png": "[encoded data removed]",
            "text/plain": [
              "<Figure size 1152x648 with 1 Axes>"
            ]
          },
          "metadata": {
            "tags": [],
            "needs_background": "light"
          }
        }
      ]
    },
    {
      "cell_type": "code",
      "metadata": {
        "id": "crJHCxO4UxMH",
        "colab": {
          "base_uri": "https://localhost:8080/"
        },
        "outputId": "1a1b8e16-bef3-4e59-a1ca-52dea0c39e34"
      },
      "source": [
        "## Variance\n",
        "sum([(i - x_mean)**2 for i in df]) / (len(df) - 1)\n"
      ],
      "execution_count": 15,
      "outputs": [
        {
          "output_type": "execute_result",
          "data": {
            "text/plain": [
              "288.9720415245963"
            ]
          },
          "metadata": {
            "tags": []
          },
          "execution_count": 15
        }
      ]
    },
    {
      "cell_type": "code",
      "metadata": {
        "colab": {
          "base_uri": "https://localhost:8080/"
        },
        "id": "ykUUI53qlep3",
        "outputId": "82950dd0-127a-4f4a-ee5c-5df8578ef309"
      },
      "source": [
        "var= np.var(df, ddof=1)\n",
        "var"
      ],
      "execution_count": 16,
      "outputs": [
        {
          "output_type": "execute_result",
          "data": {
            "text/plain": [
              "288.9720415245963"
            ]
          },
          "metadata": {
            "tags": []
          },
          "execution_count": 16
        }
      ]
    },
    {
      "cell_type": "code",
      "metadata": {
        "colab": {
          "base_uri": "https://localhost:8080/"
        },
        "id": "_9bNKhtfleyI",
        "outputId": "2910edae-23b6-4d64-fa1e-549e0656755f"
      },
      "source": [
        "df.var()"
      ],
      "execution_count": 17,
      "outputs": [
        {
          "output_type": "execute_result",
          "data": {
            "text/plain": [
              "288.9720415245963"
            ]
          },
          "metadata": {
            "tags": []
          },
          "execution_count": 17
        }
      ]
    },
    {
      "cell_type": "code",
      "metadata": {
        "colab": {
          "base_uri": "https://localhost:8080/"
        },
        "id": "Qb_YdtM-le1a",
        "outputId": "489c2946-1b5c-4ba9-9f24-ea2f76d1a2f8"
      },
      "source": [
        "## Stardard Deviation\n",
        "((sum([(i - x_mean)**2 for i in df]) / (len(df) - 1)) ** 0.5)"
      ],
      "execution_count": 18,
      "outputs": [
        {
          "output_type": "execute_result",
          "data": {
            "text/plain": [
              "16.99917767201097"
            ]
          },
          "metadata": {
            "tags": []
          },
          "execution_count": 18
        }
      ]
    },
    {
      "cell_type": "code",
      "metadata": {
        "colab": {
          "base_uri": "https://localhost:8080/"
        },
        "id": "Gt01AdQTle4O",
        "outputId": "78ef8425-648a-4e97-8402-1b2de1cd065e"
      },
      "source": [
        "np.sqrt(np.var(df, ddof=1))"
      ],
      "execution_count": 19,
      "outputs": [
        {
          "output_type": "execute_result",
          "data": {
            "text/plain": [
              "16.99917767201097"
            ]
          },
          "metadata": {
            "tags": []
          },
          "execution_count": 19
        }
      ]
    },
    {
      "cell_type": "code",
      "metadata": {
        "colab": {
          "base_uri": "https://localhost:8080/"
        },
        "id": "zIhaFaemle65",
        "outputId": "16d38be0-a656-41bf-f84d-1ce3ebe6ec42"
      },
      "source": [
        "df.std()"
      ],
      "execution_count": 20,
      "outputs": [
        {
          "output_type": "execute_result",
          "data": {
            "text/plain": [
              "16.99917767201097"
            ]
          },
          "metadata": {
            "tags": []
          },
          "execution_count": 20
        }
      ]
    },
    {
      "cell_type": "code",
      "metadata": {
        "colab": {
          "base_uri": "https://localhost:8080/"
        },
        "id": "_9jiJ9zWle9m",
        "outputId": "2efb96c4-e4b0-4614-bb5f-ae34a1ac13fa"
      },
      "source": [
        "np.min(df)"
      ],
      "execution_count": 21,
      "outputs": [
        {
          "output_type": "execute_result",
          "data": {
            "text/plain": [
              "0.0"
            ]
          },
          "metadata": {
            "tags": []
          },
          "execution_count": 21
        }
      ]
    },
    {
      "cell_type": "code",
      "metadata": {
        "colab": {
          "base_uri": "https://localhost:8080/"
        },
        "id": "CG9xoWRclfAO",
        "outputId": "819689a7-aa95-4696-bb66-322aa7b428b6"
      },
      "source": [
        "np.max(df)"
      ],
      "execution_count": 22,
      "outputs": [
        {
          "output_type": "execute_result",
          "data": {
            "text/plain": [
              "115.99"
            ]
          },
          "metadata": {
            "tags": []
          },
          "execution_count": 22
        }
      ]
    },
    {
      "cell_type": "code",
      "metadata": {
        "id": "x11XFZxKlfDx"
      },
      "source": [
        "## Mode"
      ],
      "execution_count": 23,
      "outputs": []
    },
    {
      "cell_type": "code",
      "metadata": {
        "colab": {
          "base_uri": "https://localhost:8080/"
        },
        "id": "PnqMkFMKlfGt",
        "outputId": "fe6e1f90-ec53-47fe-b1e9-3b3a8d1cd872"
      },
      "source": [
        "lst = list(df !=0)\n",
        "mode = max(set(df), key=lst.count)\n",
        "mode"
      ],
      "execution_count": 24,
      "outputs": [
        {
          "output_type": "execute_result",
          "data": {
            "text/plain": [
              "1.0"
            ]
          },
          "metadata": {
            "tags": []
          },
          "execution_count": 24
        }
      ]
    },
    {
      "cell_type": "code",
      "metadata": {
        "colab": {
          "base_uri": "https://localhost:8080/"
        },
        "id": "mdDKxtfplfJd",
        "outputId": "48715dd8-8432-4f2c-9abb-598fb7d19807"
      },
      "source": [
        "lst.count(mode)"
      ],
      "execution_count": 25,
      "outputs": [
        {
          "output_type": "execute_result",
          "data": {
            "text/plain": [
              "14678"
            ]
          },
          "metadata": {
            "tags": []
          },
          "execution_count": 25
        }
      ]
    },
    {
      "cell_type": "code",
      "metadata": {
        "colab": {
          "base_uri": "https://localhost:8080/"
        },
        "id": "ASNSY9S0lfMc",
        "outputId": "f8eeb26c-5657-4355-c9b0-af70e03c3fd1"
      },
      "source": [
        "stats.mode(df)"
      ],
      "execution_count": 26,
      "outputs": [
        {
          "output_type": "execute_result",
          "data": {
            "text/plain": [
              "ModeResult(mode=array([0.]), count=array([380]))"
            ]
          },
          "metadata": {
            "tags": []
          },
          "execution_count": 26
        }
      ]
    },
    {
      "cell_type": "code",
      "metadata": {
        "id": "3Zy25mBklfPQ"
      },
      "source": [
        "## Median"
      ],
      "execution_count": 26,
      "outputs": []
    },
    {
      "cell_type": "code",
      "metadata": {
        "colab": {
          "base_uri": "https://localhost:8080/"
        },
        "id": "I50moe_mlfRx",
        "outputId": "96abf046-93f4-4e8d-d697-acb4701a664c"
      },
      "source": [
        "x=np.sort(df)\n",
        "tmp = round(0.5 * x.shape[0])\n",
        "\n",
        "if x.shape[0] % 2:\n",
        "    median = x[tmp - 1]\n",
        "else:\n",
        "    median = x[tmp - 1] + (x[tmp] - x[tmp - 1]) / 2.\n",
        "    \n",
        "median"
      ],
      "execution_count": 27,
      "outputs": [
        {
          "output_type": "execute_result",
          "data": {
            "text/plain": [
              "6.31"
            ]
          },
          "metadata": {
            "tags": []
          },
          "execution_count": 27
        }
      ]
    },
    {
      "cell_type": "code",
      "metadata": {
        "colab": {
          "base_uri": "https://localhost:8080/"
        },
        "id": "GxOYzLsSlTsm",
        "outputId": "241532ca-ea7b-4702-c6d3-a43e80bd4ea7"
      },
      "source": [
        "np.median(x)"
      ],
      "execution_count": 28,
      "outputs": [
        {
          "output_type": "execute_result",
          "data": {
            "text/plain": [
              "6.31"
            ]
          },
          "metadata": {
            "tags": []
          },
          "execution_count": 28
        }
      ]
    },
    {
      "cell_type": "code",
      "metadata": {
        "colab": {
          "base_uri": "https://localhost:8080/",
          "height": 551
        },
        "id": "2b0Eges-laxM",
        "outputId": "59bca9d8-82a0-4d9b-e24c-aa7b56619bbd"
      },
      "source": [
        "histo()\n",
        "plt.axvline(median, color='darkorange')\n",
        "plt.show()"
      ],
      "execution_count": 29,
      "outputs": [
        {
          "output_type": "display_data",
          "data": {
            "image/png": "[encoded data removed]",
            "text/plain": [
              "<Figure size 1152x648 with 1 Axes>"
            ]
          },
          "metadata": {
            "tags": [],
            "needs_background": "light"
          }
        }
      ]
    },
    {
      "cell_type": "markdown",
      "metadata": {
        "id": "z35dNtkvl0OA"
      },
      "source": [
        "Mean < Mode So graph is right skewed\n"
      ]
    }
  ]
}
